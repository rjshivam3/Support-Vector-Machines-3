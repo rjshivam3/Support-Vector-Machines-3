{
 "cells": [
  {
   "cell_type": "markdown",
   "id": "355595c4-55e3-4589-a1d4-ced485cc40f5",
   "metadata": {},
   "source": [
    "## Q1. In order to predict house price based on several characteristics, such as location, square footage, number of bedrooms, etc., you are developing an SVM regression model. Which regression metric in this situation would be the best to employ?\n"
   ]
  },
  {
   "cell_type": "markdown",
   "id": "48c41944-fb36-4dd4-a71c-a6d5bbfb2cb4",
   "metadata": {},
   "source": [
    "The best regression metric to employ for predicting house prices with an SVM regression model would be the Root Mean Squared Error (RMSE). RMSE is a popular metric for regression tasks because it provides a measure of how accurately the model predicts the target variable (house prices in this case). It penalizes larger errors more significantly, which is important in housing price predictions where large deviations can be very impactful. RMSE is also in the same units as the target variable, making it easier to interpret.\n",
    "\n"
   ]
  },
  {
   "cell_type": "markdown",
   "id": "48eb2295-9a31-42df-aba8-3938135d6dc2",
   "metadata": {},
   "source": [
    "## Q2. You have built an SVM regression model and are trying to decide between using MSE or R-squared as your evaluation metric. Which metric would be more appropriate if your goal is to predict the actual price of a house as accurately as possible?\n"
   ]
  },
  {
   "cell_type": "markdown",
   "id": "b7c5c8a2-5cee-482d-8f2e-fd4a681452e4",
   "metadata": {},
   "source": [
    "If the goal is to predict the actual price of a house as accurately as possible, the Mean Squared Error (MSE) would be more appropriate. MSE directly measures the average squared difference between the predicted and actual values, emphasizing the need for accurate predictions. While R-squared provides an indication of the model's explanatory power, MSE is more focused on the accuracy of the predictions themselves, making it a better choice for this objective.\n"
   ]
  },
  {
   "cell_type": "markdown",
   "id": "6a6a1a94-3aa6-4baa-923a-1694cd04e01e",
   "metadata": {},
   "source": [
    "## Q3. You have a dataset with a significant number of outliers and are trying to select an appropriate regression metric to use with your SVM model. Which metric would be the most appropriate in this scenario?\n"
   ]
  },
  {
   "cell_type": "markdown",
   "id": "470c8ef2-6fa9-4c22-b572-416ef227e705",
   "metadata": {},
   "source": [
    "In the presence of a significant number of outliers, the Mean Absolute Error (MAE) would be the most appropriate regression metric to use. MAE measures the average absolute differences between predicted and actual values, making it less sensitive to outliers compared to MSE or RMSE. This robustness to outliers makes MAE a better choice when dealing with datasets that have extreme values.\n"
   ]
  },
  {
   "cell_type": "markdown",
   "id": "d5a1ed3c-26aa-43fd-be9a-55f98524ee7d",
   "metadata": {},
   "source": [
    "## Q4. You have built an SVM regression model using a polynomial kernel and are trying to select the best metric to evaluate its performance. You have calculated both MSE and RMSE and found that both values are very close. Which metric should you choose to use in this case?\n"
   ]
  },
  {
   "cell_type": "markdown",
   "id": "37d29149-f948-4039-b9bf-fbec6980b3b4",
   "metadata": {},
   "source": [
    "If both MSE and RMSE values are very close, you can choose either metric for evaluating the performance of your SVM regression model with a polynomial kernel. However, RMSE might be preferable because it is in the same units as the target variable, making it more interpretable. Additionally, since RMSE is the square root of MSE, it can give more insight into the average magnitude of errors in the same units as the predicted values.\n"
   ]
  },
  {
   "cell_type": "markdown",
   "id": "46bab037-3bde-47ec-ae90-837ccb47c9e9",
   "metadata": {},
   "source": [
    "## Q5. You are comparing the performance of different SVM regression models using different kernels (linear, polynomial, and RBF) and are trying to select the best evaluation metric. Which metric would be most appropriate if your goal is to measure how well the model explains the variance in the target variable?\n"
   ]
  },
  {
   "cell_type": "markdown",
   "id": "86c4de5e-8380-48a4-84eb-428835719709",
   "metadata": {},
   "source": [
    "If your goal is to measure how well the model explains the variance in the target variable, the R-squared (coefficient of determination) would be the most appropriate metric. R-squared provides a measure of how much of the variance in the dependent variable is explained by the independent variables in the model. It gives a clear indication of the model's explanatory power, making it ideal for comparing the performance of different SVM regression models with different kernels.\n"
   ]
  },
  {
   "cell_type": "code",
   "execution_count": null,
   "id": "679129b5-c814-4f55-9279-5dd140fd0055",
   "metadata": {},
   "outputs": [],
   "source": []
  }
 ],
 "metadata": {
  "kernelspec": {
   "display_name": "Python 3 (ipykernel)",
   "language": "python",
   "name": "python3"
  },
  "language_info": {
   "codemirror_mode": {
    "name": "ipython",
    "version": 3
   },
   "file_extension": ".py",
   "mimetype": "text/x-python",
   "name": "python",
   "nbconvert_exporter": "python",
   "pygments_lexer": "ipython3",
   "version": "3.10.8"
  }
 },
 "nbformat": 4,
 "nbformat_minor": 5
}
